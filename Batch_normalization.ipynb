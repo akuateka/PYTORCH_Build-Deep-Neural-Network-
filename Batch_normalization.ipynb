{
 "cells": [
  {
   "cell_type": "code",
   "execution_count": 1,
   "id": "097047dd-f0d1-46be-a8f6-d779fdefc130",
   "metadata": {},
   "outputs": [],
   "source": [
    "from torchvision import datasets\n",
    "import torch"
   ]
  },
  {
   "cell_type": "code",
   "execution_count": 2,
   "id": "f594de6d-1f30-40f6-8ca5-33cd37bde12a",
   "metadata": {
    "scrolled": true,
    "tags": []
   },
   "outputs": [],
   "source": [
    "# download the FMNIST training dataset\n",
    "fmnist = datasets.FashionMNIST('~/data/FMNIST', download=True, train = True)\n",
    "\n",
    "# fmnist validation dataset\n",
    "val_fmnist = datasets.FashionMNIST('~/data/FMNIST', train = False)"
   ]
  },
  {
   "cell_type": "code",
   "execution_count": 3,
   "id": "311bb5a6-8446-4d88-8459-835ce7c4f20c",
   "metadata": {},
   "outputs": [],
   "source": [
    "# training dataset\n",
    "tr_images  = fmnist.data\n",
    "\n",
    "# validation datasets\n",
    "val_images = val_fmnist.data\n",
    "\n",
    "# training labels\n",
    "tr_targets = fmnist.targets\n",
    "\n",
    "# validation labels\n",
    "val_targets = val_fmnist.targets"
   ]
  },
  {
   "cell_type": "code",
   "execution_count": 4,
   "id": "e48ca33b-c223-4478-9799-1daf9989827d",
   "metadata": {},
   "outputs": [],
   "source": [
    "from torch.utils.data import Dataset, DataLoader\n",
    "import torch.nn as nn\n",
    "device = 'cuda' if torch.cuda.is_available() else 'cpu'"
   ]
  },
  {
   "cell_type": "code",
   "execution_count": 5,
   "id": "4b526bf7-2169-451b-bb68-7579f20dd7ee",
   "metadata": {},
   "outputs": [],
   "source": [
    "# build a class that fetch the dataset\n",
    "class MyFMNISTDataset(Dataset):\n",
    "    def __init__(self, x, y):\n",
    "        \n",
    "        # convert to float values, flatten\n",
    "        # store them into the device\n",
    "        x = x.float()/(255.*10000)\n",
    "        x = x.view(-1, 28*28)\n",
    "        self.x = x.to(device)\n",
    "        self.y = y.to(device)\n",
    "        \n",
    "    def __getitem__(self, ix):\n",
    "        return self.x[ix], self.y[ix]\n",
    "    \n",
    "    def __len__(self):\n",
    "        return len(self.x)"
   ]
  },
  {
   "cell_type": "code",
   "execution_count": 6,
   "id": "87d78fe3-e3e8-4301-bbfd-0c7069f6aa1c",
   "metadata": {},
   "outputs": [],
   "source": [
    "# build a function to fetch a batchsize from the dataset\n",
    "def get_data():\n",
    "    # fetch the training dataset and the batches from itself\n",
    "    trn_dts = MyFMNISTDataset(tr_images, tr_targets)\n",
    "    trn_dl = DataLoader(trn_dts, batch_size=32, shuffle=True)\n",
    "    \n",
    "    # fetch the validation dataset and the batches from itself\n",
    "    val_dts = MyFMNISTDataset(val_images, val_targets)\n",
    "    val_dl = DataLoader(val_dts, batch_size=len(val_images), shuffle=False)\n",
    "    return trn_dl, val_dl"
   ]
  },
  {
   "cell_type": "code",
   "execution_count": 7,
   "id": "c30e8a7c-42f3-4a62-a52d-589b87e4d414",
   "metadata": {},
   "outputs": [],
   "source": [
    "from torch.optim import SGD, Adam\n",
    "\n",
    "# define a model function\n",
    "def get_model():\n",
    "    class NeuralNetwork(nn.Module):\n",
    "        def __init__(self):\n",
    "            super().__init__()\n",
    "            self.input_to_hidden_layer = nn.Linear(28*28, 1000)\n",
    "            self.batch_norm = nn.BatchNorm1d(1000)\n",
    "            self.hidden_layer_activation = nn.ReLU()\n",
    "            self.hidden_to_output_layer = nn.Linear(1000, 10)\n",
    "        \n",
    "        def forward(self, x):\n",
    "            x0 = self.input_to_hidden_layer(x)\n",
    "            x1 = self.batch_norm(x0)\n",
    "            x2 = self.hidden_layer_activation(x1)\n",
    "            x3 = self.hidden_to_output_layer(x2)\n",
    "            return x3, x2\n",
    "            \n",
    "    my_model = NeuralNetwork().to(device)\n",
    "    \n",
    "    #  Loss function\n",
    "    loss_fn = nn.CrossEntropyLoss()\n",
    "    \n",
    "    # optimizer\n",
    "    optimizer = Adam(my_model.parameters(), lr = 0.001)\n",
    "    \n",
    "    return my_model, loss_fn, optimizer"
   ]
  },
  {
   "cell_type": "code",
   "execution_count": 8,
   "id": "2de7b690-f152-4573-a897-bc4e13b2b5b0",
   "metadata": {},
   "outputs": [],
   "source": [
    "# function to train the dataset on a batch of images\n",
    "def train_batch(batch_x, batch_y, my_model, loss_fn, optimizer):\n",
    "    \n",
    "    # flush the previous gradients\n",
    "    optimizer.zero_grad()\n",
    "    \n",
    "    # compute the batch loss\n",
    "    batch_loss = loss_fn(my_model(batch_x)[0], batch_y)\n",
    "    \n",
    "    # backward pass\n",
    "    batch_loss.backward()\n",
    "    \n",
    "    # update parameters\n",
    "    optimizer.step()\n",
    "    \n",
    "    return batch_loss.item()"
   ]
  },
  {
   "cell_type": "code",
   "execution_count": 9,
   "id": "c2329269-b2d9-4e29-879c-131f9915230b",
   "metadata": {},
   "outputs": [],
   "source": [
    "@torch.no_grad()\n",
    "def val_loss(val_batch_x, val_batch_y, my_model):\n",
    "    val_batch_loss = loss_fn(my_model(val_batch_x)[0], val_batch_y)\n",
    "    return val_batch_loss.item()"
   ]
  },
  {
   "cell_type": "code",
   "execution_count": 10,
   "id": "8d26f39a-1677-4242-af66-46899597bb6f",
   "metadata": {},
   "outputs": [],
   "source": [
    "# compute the accuracy\n",
    "\n",
    "# disable gradient computation in the whole function\n",
    "@torch.no_grad()\n",
    "def accuracy(batch_x, batch_y, my_model):\n",
    "    \n",
    "    # compute the max and the argmax\n",
    "    max_values, argmaxes = my_model(batch_x)[0].max(-1)\n",
    "    \n",
    "    # coincide with ground truth\n",
    "    is_correct = argmaxes == batch_y\n",
    "    \n",
    "    return is_correct.cpu().numpy().tolist()"
   ]
  },
  {
   "cell_type": "code",
   "execution_count": 11,
   "id": "c8d24c69-9582-4b23-95f7-5160a149dfde",
   "metadata": {},
   "outputs": [],
   "source": [
    "trn_dl, val_dl = get_data()\n",
    "my_model, loss_fn, optimizer = get_model()"
   ]
  },
  {
   "cell_type": "code",
   "execution_count": 12,
   "id": "5f138eee-81fe-43c0-9b71-4e2567b40755",
   "metadata": {},
   "outputs": [
    {
     "name": "stdout",
     "output_type": "stream",
     "text": [
      "Epoch =  1 is done\n",
      "Epoch =  2 is done\n",
      "Epoch =  3 is done\n",
      "Epoch =  4 is done\n",
      "Epoch =  5 is done\n",
      "Epoch =  6 is done\n",
      "Epoch =  7 is done\n",
      "Epoch 00008: reducing learning rate of group 0 to 5.0000e-04.\n",
      "Epoch =  8 is done\n",
      "Epoch =  9 is done\n",
      "Epoch 00010: reducing learning rate of group 0 to 2.5000e-04.\n",
      "Epoch =  10 is done\n",
      "Epoch =  11 is done\n",
      "Epoch =  12 is done\n",
      "Epoch 00013: reducing learning rate of group 0 to 1.2500e-04.\n",
      "Epoch =  13 is done\n",
      "Epoch =  14 is done\n",
      "Epoch 00015: reducing learning rate of group 0 to 6.2500e-05.\n",
      "Epoch =  15 is done\n",
      "Epoch 00016: reducing learning rate of group 0 to 3.1250e-05.\n",
      "Epoch =  16 is done\n",
      "Epoch =  17 is done\n",
      "Epoch 00018: reducing learning rate of group 0 to 1.5625e-05.\n",
      "Epoch =  18 is done\n",
      "Epoch 00019: reducing learning rate of group 0 to 1.0000e-05.\n",
      "Epoch =  19 is done\n",
      "Epoch =  20 is done\n",
      "Epoch =  21 is done\n",
      "Epoch =  22 is done\n",
      "Epoch =  23 is done\n",
      "Epoch =  24 is done\n",
      "Epoch =  25 is done\n",
      "Epoch =  26 is done\n",
      "Epoch =  27 is done\n",
      "Epoch =  28 is done\n",
      "Epoch =  29 is done\n",
      "Epoch =  30 is done\n",
      "Epoch =  31 is done\n",
      "Epoch =  32 is done\n",
      "Epoch =  33 is done\n",
      "Epoch =  34 is done\n",
      "Epoch =  35 is done\n",
      "Epoch =  36 is done\n",
      "Epoch =  37 is done\n",
      "Epoch =  38 is done\n",
      "Epoch =  39 is done\n",
      "Epoch =  40 is done\n",
      "Epoch =  41 is done\n",
      "Epoch =  42 is done\n",
      "Epoch =  43 is done\n",
      "Epoch =  44 is done\n",
      "Epoch =  45 is done\n",
      "Epoch =  46 is done\n",
      "Epoch =  47 is done\n",
      "Epoch =  48 is done\n",
      "Epoch =  49 is done\n",
      "Epoch =  50 is done\n",
      "Epoch =  51 is done\n",
      "Epoch =  52 is done\n",
      "Epoch =  53 is done\n",
      "Epoch =  54 is done\n",
      "Epoch =  55 is done\n",
      "Epoch =  56 is done\n",
      "Epoch =  57 is done\n",
      "Epoch =  58 is done\n",
      "Epoch =  59 is done\n",
      "Epoch =  60 is done\n",
      "Epoch =  61 is done\n",
      "Epoch =  62 is done\n",
      "Epoch =  63 is done\n",
      "Epoch =  64 is done\n",
      "Epoch =  65 is done\n",
      "Epoch =  66 is done\n",
      "Epoch =  67 is done\n",
      "Epoch =  68 is done\n",
      "Epoch =  69 is done\n",
      "Epoch =  70 is done\n",
      "Epoch =  71 is done\n",
      "Epoch =  72 is done\n",
      "Epoch =  73 is done\n",
      "Epoch =  74 is done\n",
      "Epoch =  75 is done\n",
      "Epoch =  76 is done\n",
      "Epoch =  77 is done\n",
      "Epoch =  78 is done\n",
      "Epoch =  79 is done\n",
      "Epoch =  80 is done\n",
      "Epoch =  81 is done\n",
      "Epoch =  82 is done\n",
      "Epoch =  83 is done\n",
      "Epoch =  84 is done\n",
      "Epoch =  85 is done\n",
      "Epoch =  86 is done\n",
      "Epoch =  87 is done\n",
      "Epoch =  88 is done\n",
      "Epoch =  89 is done\n",
      "Epoch =  90 is done\n",
      "Epoch =  91 is done\n",
      "Epoch =  92 is done\n",
      "Epoch =  93 is done\n",
      "Epoch =  94 is done\n",
      "Epoch =  95 is done\n",
      "Epoch =  96 is done\n",
      "Epoch =  97 is done\n",
      "Epoch =  98 is done\n",
      "Epoch =  99 is done\n",
      "Epoch =  100 is done\n"
     ]
    }
   ],
   "source": [
    "import numpy as np\n",
    "from torch.optim import lr_scheduler\n",
    "scheduler = lr_scheduler.ReduceLROnPlateau(optimizer, factor = 0.2, patience = 0, \n",
    "                                           threshold = 0.001, min_lr = 0.00001,\n",
    "                                           threshold_mode='abs',\n",
    "                                           verbose=True)\n",
    "# empty list of the total losses\n",
    "losses, accuracies = [], []\n",
    "val_losses, val_accuracies = [], []\n",
    "\n",
    "for epoch in range(100):\n",
    "    batch_losses, batch_accuracies = [], []\n",
    "    \n",
    "    for ix, (batch_x, batch_y) in enumerate(iter(trn_dl)):\n",
    "        \n",
    "        batch_loss = train_batch(batch_x, batch_y, my_model, loss_fn, optimizer)\n",
    "        \n",
    "        batch_losses.append(batch_loss)\n",
    "    train_epoch_loss = np.array(batch_losses).mean()\n",
    "    \n",
    "    for ix, batches in enumerate(iter(trn_dl)):\n",
    "        batch_x, batch_y = batches\n",
    "        \n",
    "        batch_accuracy = accuracy(batch_x, batch_y, my_model)\n",
    "        \n",
    "        batch_accuracies.extend(batch_accuracy)\n",
    "    train_epoch_accuracy = np.array(batch_accuracies).mean()\n",
    "    \n",
    "    # Validation set\n",
    "    for ix, (val_batch_x, val_batch_y) in enumerate(iter(val_dl)):\n",
    "        val_batch_accuracies = accuracy(val_batch_x, val_batch_y, my_model)\n",
    "        val_batch_loss = val_loss(val_batch_x, val_batch_y, my_model)\n",
    "        scheduler.step(val_batch_loss)\n",
    "    val_epoch_accuracy = np.array(val_batch_accuracies).mean()\n",
    "        \n",
    "    losses.append(train_epoch_loss)\n",
    "    accuracies.append(train_epoch_accuracy)\n",
    "    val_losses.append(val_batch_loss)\n",
    "    val_accuracies.append(val_epoch_accuracy)\n",
    "    print('Epoch = ', str(epoch+1) + ' is done')"
   ]
  },
  {
   "cell_type": "code",
   "execution_count": 13,
   "id": "51fd51f4-52d3-476f-b578-2962d5ad090e",
   "metadata": {},
   "outputs": [
    {
     "data": {
      "text/plain": [
       "<matplotlib.legend.Legend at 0x2c5dc8fea00>"
      ]
     },
     "execution_count": 13,
     "metadata": {},
     "output_type": "execute_result"
    },
    {
     "data": {
      "image/png": "[encoded data removed]",
      "text/plain": [
       "<Figure size 864x288 with 2 Axes>"
      ]
     },
     "metadata": {
      "needs_background": "light"
     },
     "output_type": "display_data"
    }
   ],
   "source": [
    "import matplotlib.pyplot as plt\n",
    "fig = plt.figure(figsize=(12, 4))\n",
    "plt.subplot(1, 2, 1)\n",
    "plt.plot(range(100), losses, c = 'blue', label = 'training loss')\n",
    "plt.plot(range(100), val_losses, c = 'black', label = 'validation loss')\n",
    "plt.grid(True)\n",
    "plt.legend()\n",
    "\n",
    "plt.subplot(1, 2, 2)\n",
    "plt.plot(range(100), accuracies, c = 'blue', label = 'training accuracy')\n",
    "plt.plot(range(100), val_accuracies, c = 'black', label = 'validation accuracy')\n",
    "plt.grid(True)\n",
    "plt.legend()"
   ]
  },
  {
   "cell_type": "code",
   "execution_count": 14,
   "id": "c8de44a3-bd09-46a6-ae33-60830894fa17",
   "metadata": {},
   "outputs": [
    {
     "name": "stdout",
     "output_type": "stream",
     "text": [
      "torch.Size([1000, 784])\n",
      "torch.Size([1000])\n",
      "torch.Size([1000])\n",
      "torch.Size([1000])\n",
      "torch.Size([10, 1000])\n",
      "torch.Size([10])\n"
     ]
    }
   ],
   "source": [
    "for params in my_model.parameters():\n",
    "    print(params.shape)"
   ]
  },
  {
   "cell_type": "code",
   "execution_count": 32,
   "id": "3982e40e-a98e-4962-b5f7-fdce818b49f2",
   "metadata": {},
   "outputs": [
    {
     "data": {
      "image/png": "[encoded data removed]",
      "text/plain": [
       "<Figure size 2016x360 with 3 Axes>"
      ]
     },
     "metadata": {
      "needs_background": "light"
     },
     "output_type": "display_data"
    }
   ],
   "source": [
    "fig = plt.figure(figsize = (28, 5))\n",
    "\n",
    "plt.subplot(1, 3, 1)\n",
    "train_set = MyFMNISTDataset(tr_images, tr_targets)\n",
    "plt.hist(my_model(train_set.x)[1].cpu().detach().numpy().flatten())\n",
    "\n",
    "for idx, params in enumerate(iter(my_model.parameters())):\n",
    "    \n",
    "    if idx == 0:\n",
    "        # print('The weights of the first layer distribution : \\n', params.cpu().detach().numpy())\n",
    "        plt.subplot(1, 3, 2)\n",
    "        plt.hist(params.cpu().detach().numpy().flatten())\n",
    "        plt.grid(True)\n",
    "        \n",
    "    # elif idx == 1:\n",
    "    #     # print('The biases of the first layer distribution : \\n', params.cpu().detach().numpy())\n",
    "    #     plt.subplot(1, 4, idx+1)\n",
    "    #     plt.hist(params.cpu().detach().numpy().flatten())\n",
    "    #     plt.grid(True)\n",
    "    #     \n",
    "    # elif idx == 2:\n",
    "    #     # print('The weights of the output layer distribution : \\n', params.cpu().detach().numpy())\n",
    "    #     plt.subplot(1, 4, idx+1)\n",
    "    #     plt.hist(params.cpu().detach().numpy().flatten())\n",
    "    #     plt.grid(True)\n",
    "        \n",
    "    if idx == 4:\n",
    "        # print('The biases of the output layer distribution : \\n', params.cpu().detach().numpy())\n",
    "        plt.subplot(1, 3, 3)\n",
    "        plt.hist(params.cpu().detach().numpy().flatten())\n",
    "        plt.grid(True)"
   ]
  },
  {
   "cell_type": "code",
   "execution_count": null,
   "id": "647c2c81-f2df-4f28-be0a-9ff8d75d607f",
   "metadata": {},
   "outputs": [],
   "source": []
  }
 ],
 "metadata": {
  "kernelspec": {
   "display_name": "Python 3 (ipykernel)",
   "language": "python",
   "name": "python3"
  },
  "language_info": {
   "codemirror_mode": {
    "name": "ipython",
    "version": 3
   },
   "file_extension": ".py",
   "mimetype": "text/x-python",
   "name": "python",
   "nbconvert_exporter": "python",
   "pygments_lexer": "ipython3",
   "version": "3.9.12"
  }
 },
 "nbformat": 4,
 "nbformat_minor": 5
}
