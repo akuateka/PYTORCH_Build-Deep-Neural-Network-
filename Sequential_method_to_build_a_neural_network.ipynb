{
 "cells": [
  {
   "cell_type": "code",
   "execution_count": 1,
   "id": "3832edc7-2045-4a19-977c-0c666fc21fec",
   "metadata": {},
   "outputs": [],
   "source": [
    "import torch \n",
    "import torch.nn as nn\n",
    "from torch.utils.data import Dataset, DataLoader\n",
    "device = 'cuda' if torch.cuda.is_available() else 'cpu'"
   ]
  },
  {
   "cell_type": "code",
   "execution_count": 2,
   "id": "ffca9c36-cfdd-4aa3-a929-be2e89a2038e",
   "metadata": {},
   "outputs": [],
   "source": [
    "# define a list of features and label\n",
    "x = [[1, 2], [3, 4], [5, 6], [7, 8]]\n",
    "y = [[3], [7], [11], [15]]"
   ]
  },
  {
   "cell_type": "code",
   "execution_count": 3,
   "id": "7b10577a-5a97-463e-a66c-7a840f415672",
   "metadata": {},
   "outputs": [],
   "source": [
    "# define a class MyDataset\n",
    "class MyDataset(Dataset):\n",
    "    def __init__(self, x, y):\n",
    "        self.x = torch.tensor(x).float().to(device)\n",
    "        self.y = torch.tensor(y).float().to(device)\n",
    "        \n",
    "    def __len__(self):\n",
    "        return len(self.x)\n",
    "    \n",
    "    def __getitem__(self, ix):\n",
    "        return self.x[ix], self.y[ix]"
   ]
  },
  {
   "cell_type": "code",
   "execution_count": 4,
   "id": "faee3a69-cab2-4c4b-a96b-5efb6525350c",
   "metadata": {},
   "outputs": [],
   "source": [
    "ds = MyDataset(x, y)\n",
    "dl = DataLoader(ds, batch_size=2, shuffle=True)"
   ]
  },
  {
   "cell_type": "code",
   "execution_count": 5,
   "id": "46e6ff2c-a863-4e1d-a9fc-a5c4e13fd806",
   "metadata": {},
   "outputs": [],
   "source": [
    "# model\n",
    "mynet = nn.Sequential(\n",
    "            nn.Linear(2, 8),\n",
    "            nn.ReLU(),\n",
    "            nn.Linear(8, 1)\n",
    "            ).to(device)"
   ]
  },
  {
   "cell_type": "code",
   "execution_count": 6,
   "id": "6b3a298a-2fd4-470a-b3d2-a7de83377fb3",
   "metadata": {},
   "outputs": [],
   "source": [
    "from torchsummary import summary"
   ]
  },
  {
   "cell_type": "code",
   "execution_count": 7,
   "id": "f0c6dc77-5bce-4941-a203-e70b2677b5e6",
   "metadata": {},
   "outputs": [
    {
     "name": "stdout",
     "output_type": "stream",
     "text": [
      "==========================================================================================\n",
      "Layer (type:depth-idx)                   Output Shape              Param #\n",
      "==========================================================================================\n",
      "├─Linear: 1-1                            [-1, 8]                   24\n",
      "├─ReLU: 1-2                              [-1, 8]                   --\n",
      "├─Linear: 1-3                            [-1, 1]                   9\n",
      "==========================================================================================\n",
      "Total params: 33\n",
      "Trainable params: 33\n",
      "Non-trainable params: 0\n",
      "Total mult-adds (M): 0.00\n",
      "==========================================================================================\n",
      "Input size (MB): 0.00\n",
      "Forward/backward pass size (MB): 0.00\n",
      "Params size (MB): 0.00\n",
      "Estimated Total Size (MB): 0.00\n",
      "==========================================================================================\n"
     ]
    },
    {
     "data": {
      "text/plain": [
       "==========================================================================================\n",
       "Layer (type:depth-idx)                   Output Shape              Param #\n",
       "==========================================================================================\n",
       "├─Linear: 1-1                            [-1, 8]                   24\n",
       "├─ReLU: 1-2                              [-1, 8]                   --\n",
       "├─Linear: 1-3                            [-1, 1]                   9\n",
       "==========================================================================================\n",
       "Total params: 33\n",
       "Trainable params: 33\n",
       "Non-trainable params: 0\n",
       "Total mult-adds (M): 0.00\n",
       "==========================================================================================\n",
       "Input size (MB): 0.00\n",
       "Forward/backward pass size (MB): 0.00\n",
       "Params size (MB): 0.00\n",
       "Estimated Total Size (MB): 0.00\n",
       "=========================================================================================="
      ]
     },
     "execution_count": 7,
     "metadata": {},
     "output_type": "execute_result"
    }
   ],
   "source": [
    "summary(mynet, torch.zeros(1, 2))"
   ]
  },
  {
   "cell_type": "code",
   "execution_count": 8,
   "id": "e8e501d0-7fa6-479b-b496-3768d4fcb14e",
   "metadata": {},
   "outputs": [],
   "source": [
    "# get the loss\n",
    "loss_func = nn.MSELoss()\n",
    "\n",
    "# get the optimizer\n",
    "from torch.optim import SGD\n",
    "optimizer = SGD(mynet.parameters(), lr = 0.001)\n",
    "\n",
    "loss_history = []\n",
    "# train\n",
    "for epoch in range(50):\n",
    "    for batches in dl:\n",
    "        batch_x, batch_y = batches\n",
    "\n",
    "        # flush the previous gradients\n",
    "        optimizer.zero_grad()\n",
    "        \n",
    "        # compute loss\n",
    "        loss_value = loss_func(mynet(batch_x), batch_y)\n",
    "        \n",
    "        # backward pass\n",
    "        loss_value.backward()\n",
    "        \n",
    "        # update the parameters\n",
    "        optimizer.step()\n",
    "        \n",
    "        loss_history.append(loss_value.item())"
   ]
  },
  {
   "cell_type": "code",
   "execution_count": 9,
   "id": "5af05319-d23c-44a9-a50b-b116af486150",
   "metadata": {},
   "outputs": [
    {
     "data": {
      "text/plain": [
       "tensor([[17.0317],\n",
       "        [21.0548],\n",
       "        [ 3.9567]], device='cuda:0', grad_fn=<AddmmBackward0>)"
      ]
     },
     "execution_count": 9,
     "metadata": {},
     "output_type": "execute_result"
    }
   ],
   "source": [
    "x_test = [[8,9],[10,11],[1.5,2.5]]\n",
    "mynet(torch.tensor(x_test).float().to(device))"
   ]
  },
  {
   "cell_type": "markdown",
   "id": "bb74c0e6-c4f3-46e0-ad7b-ee1841f80176",
   "metadata": {},
   "source": [
    "#\n",
    "#### save a model"
   ]
  },
  {
   "cell_type": "code",
   "execution_count": 11,
   "id": "6dd45689-90a0-4cb3-b3ff-206b9e90bae1",
   "metadata": {},
   "outputs": [
    {
     "data": {
      "text/plain": [
       "OrderedDict([('0.weight',\n",
       "              tensor([[ 0.9404,  0.6635],\n",
       "                      [ 0.5668, -0.0278],\n",
       "                      [-0.0121, -0.2320],\n",
       "                      [-0.2491, -0.6255],\n",
       "                      [ 0.2395,  0.5419],\n",
       "                      [ 0.0909, -0.3123],\n",
       "                      [-0.2675, -0.5055],\n",
       "                      [-0.4562, -0.5065]], device='cuda:0')),\n",
       "             ('0.bias',\n",
       "              tensor([-0.6239,  0.7138, -0.0672, -0.4634, -0.2901, -0.1516, -0.2663, -0.2228],\n",
       "                     device='cuda:0')),\n",
       "             ('2.weight',\n",
       "              tensor([[ 0.8618,  0.4759,  0.1461, -0.1565,  0.4770, -0.0771,  0.1488,  0.3015]],\n",
       "                     device='cuda:0')),\n",
       "             ('2.bias', tensor([0.4587], device='cuda:0'))])"
      ]
     },
     "execution_count": 11,
     "metadata": {},
     "output_type": "execute_result"
    }
   ],
   "source": [
    "# get the layer's names and their associated parameters\n",
    "mynet.state_dict()"
   ]
  },
  {
   "cell_type": "code",
   "execution_count": 12,
   "id": "dd80242e-779c-4c85-b73b-8815ffc7c470",
   "metadata": {},
   "outputs": [],
   "source": [
    "# store the model to the cpu\n",
    "# then save\n",
    "torch.save(mynet.to('cpu').state_dict(), 'my_first_sequential_model.pth')"
   ]
  },
  {
   "cell_type": "markdown",
   "id": "1411385c-b84a-4472-a43c-ee545a51ce06",
   "metadata": {},
   "source": [
    "#\n",
    "#### load a model"
   ]
  },
  {
   "cell_type": "code",
   "execution_count": 13,
   "id": "35275d55-93a4-4b09-826c-a6d885bc0d6f",
   "metadata": {},
   "outputs": [
    {
     "data": {
      "text/plain": [
       "Sequential(\n",
       "  (0): Linear(in_features=2, out_features=8, bias=True)\n",
       "  (1): ReLU()\n",
       "  (2): Linear(in_features=8, out_features=1, bias=True)\n",
       ")"
      ]
     },
     "execution_count": 13,
     "metadata": {},
     "output_type": "execute_result"
    }
   ],
   "source": [
    "# create an empty model with random weights\n",
    "# model\n",
    "model = nn.Sequential(\n",
    "            nn.Linear(2, 8),\n",
    "            nn.ReLU(),\n",
    "            nn.Linear(8, 1)\n",
    "            ).to(device)\n",
    "\n",
    "# load the state_dict model from the disk\n",
    "state_dict = torch.load('my_first_sequential_model.pth')\n",
    "\n",
    "# load the downloaded state_dict into the new model\n",
    "model.load_state_dict(state_dict)\n",
    "\n",
    "# store the model to the 'cuda'\n",
    "model.to(device)"
   ]
  },
  {
   "cell_type": "code",
   "execution_count": 14,
   "id": "2f2aaf14-cddb-459d-a648-ab6e4a46dc14",
   "metadata": {},
   "outputs": [
    {
     "data": {
      "text/plain": [
       "tensor([[17.0317],\n",
       "        [21.0548],\n",
       "        [ 3.9567]], device='cuda:0', grad_fn=<AddmmBackward0>)"
      ]
     },
     "execution_count": 14,
     "metadata": {},
     "output_type": "execute_result"
    }
   ],
   "source": [
    "model(torch.tensor(x_test).float().to(device))"
   ]
  }
 ],
 "metadata": {
  "kernelspec": {
   "display_name": "Python 3 (ipykernel)",
   "language": "python",
   "name": "python3"
  },
  "language_info": {
   "codemirror_mode": {
    "name": "ipython",
    "version": 3
   },
   "file_extension": ".py",
   "mimetype": "text/x-python",
   "name": "python",
   "nbconvert_exporter": "python",
   "pygments_lexer": "ipython3",
   "version": "3.9.12"
  }
 },
 "nbformat": 4,
 "nbformat_minor": 5
}
