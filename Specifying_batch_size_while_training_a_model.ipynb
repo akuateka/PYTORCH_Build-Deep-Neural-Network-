{
 "cells": [
  {
   "cell_type": "code",
   "execution_count": 1,
   "id": "c1004aad-3c4a-4f4e-af81-7d23e673974b",
   "metadata": {},
   "outputs": [],
   "source": [
    "import torch\n",
    "import torch.nn as nn\n",
    "from torch.utils.data import Dataset, DataLoader"
   ]
  },
  {
   "cell_type": "code",
   "execution_count": 2,
   "id": "ad05747a-043d-4534-b343-52fe66bf43f9",
   "metadata": {},
   "outputs": [],
   "source": [
    "# define a list of features and label\n",
    "x = [[1, 2], [3, 4], [5, 6], [7, 8]]\n",
    "y = [[3], [7], [11], [15]]\n",
    "\n",
    "# convert into pytorch tensor\n",
    "x = torch.tensor(x).float()\n",
    "y = torch.tensor(y).float()\n",
    "\n",
    "# store the features and labels in device \n",
    "device = 'cuda' if torch.cuda.is_available() else 'cpu'\n",
    "x = x.to(device)\n",
    "y = y.to(device)"
   ]
  },
  {
   "cell_type": "code",
   "execution_count": 3,
   "id": "6dee8c80-7edd-442b-9334-180181d54dca",
   "metadata": {},
   "outputs": [],
   "source": [
    "# define a dataset\n",
    "class MyDataset(Dataset):\n",
    "    def __init__(self, x, y):\n",
    "        self.x = x\n",
    "        self.y = y\n",
    "        \n",
    "    def __len__(self):\n",
    "        return len(self.x)\n",
    "    \n",
    "    def __getitem__(self, ix):\n",
    "        return self.x[ix], self.y[ix]\n",
    "    \n",
    "# dataset instance  \n",
    "ds = MyDataset(x, y)\n",
    "\n",
    "# fetch the batch_size from the dataset instance\n",
    "dl = DataLoader(ds, batch_size=2, shuffle=True)"
   ]
  },
  {
   "cell_type": "code",
   "execution_count": 4,
   "id": "a402e2b1-2652-4f7b-8329-edc7838bf105",
   "metadata": {},
   "outputs": [],
   "source": [
    "# define a model\n",
    "# mandatory to inherit from nn.module\n",
    "class MyNeuralNet(nn.Module):\n",
    "    def __init__(self):\n",
    "        \n",
    "        # take advantages of built_in functionnalities of nn.module \n",
    "        super().__init__()\n",
    "        self.input_to_hidden_layer = nn.Parameter(torch.randn(2, 8))\n",
    "        self.hidden_to_activation = nn.ReLU()\n",
    "        self.hidden_to_output = nn.Parameter(torch.randn(8, 1))\n",
    "        \n",
    "    # forward pass\n",
    "    def forward(self, x):\n",
    "        x = x@self.input_to_hidden_layer\n",
    "        x = self.hidden_to_activation(x)\n",
    "        x = x@self.hidden_to_output\n",
    "        return x"
   ]
  },
  {
   "cell_type": "code",
   "execution_count": 5,
   "id": "72c53d0b-8eeb-4af0-ac1c-05ff32493123",
   "metadata": {},
   "outputs": [
    {
     "name": "stdout",
     "output_type": "stream",
     "text": [
      "time :  3.503028631210327\n"
     ]
    }
   ],
   "source": [
    "torch.manual_seed(10)\n",
    "mynet = MyNeuralNet().to(device)\n",
    "\n",
    "loss_func = nn.MSELoss()\n",
    "\n",
    "# get the optimizer\n",
    "from torch.optim import SGD\n",
    "optimizer = SGD(mynet.parameters(), lr = 0.001)\n",
    "\n",
    "loss_history = []\n",
    "\n",
    "import time\n",
    "start = time.time()\n",
    "for epoch in range(50):\n",
    "    for batches in dl:\n",
    "        batch_x, batch_y = batches\n",
    "        \n",
    "        # flush the previous gradients\n",
    "        optimizer.zero_grad()\n",
    "        \n",
    "        # compute the loss\n",
    "        loss_value = loss_func(mynet(batch_x), batch_y)\n",
    "        \n",
    "        # backward propagation\n",
    "        loss_value.backward()\n",
    "        \n",
    "        # upgrade the parameters\n",
    "        optimizer.step()\n",
    "        loss_history.append(loss_value.item())\n",
    "end = time.time()\n",
    "print('time : ', end - start)"
   ]
  },
  {
   "cell_type": "markdown",
   "id": "b4170454-0982-4889-93ea-bee2e2e58f4b",
   "metadata": {},
   "source": [
    "#\n",
    "##### predictions"
   ]
  },
  {
   "cell_type": "code",
   "execution_count": 6,
   "id": "e707e77f-bbb9-4709-afc8-19074a67b336",
   "metadata": {},
   "outputs": [
    {
     "data": {
      "text/plain": [
       "tensor([[20.9136]], device='cuda:0', grad_fn=<MmBackward0>)"
      ]
     },
     "execution_count": 6,
     "metadata": {},
     "output_type": "execute_result"
    }
   ],
   "source": [
    "val_x = [[10,11]]\n",
    "\n",
    "# convert into tensor of float dtype values and\n",
    "# store it in device\n",
    "val_x = torch.tensor(val_x).float().to(device)\n",
    "mynet(val_x)"
   ]
  },
  {
   "cell_type": "code",
   "execution_count": 7,
   "id": "7d7c5741-9964-4b18-8d2b-74f4b01c1f31",
   "metadata": {},
   "outputs": [
    {
     "name": "stdout",
     "output_type": "stream",
     "text": [
      "[tensor([[7., 8.],\n",
      "        [3., 4.]], device='cuda:0'), tensor([[15.],\n",
      "        [ 7.]], device='cuda:0')]\n",
      "[tensor([[1., 2.],\n",
      "        [5., 6.]], device='cuda:0'), tensor([[ 3.],\n",
      "        [11.]], device='cuda:0')]\n"
     ]
    }
   ],
   "source": [
    "for batches in dl:\n",
    "    print(batches)"
   ]
  },
  {
   "cell_type": "code",
   "execution_count": null,
   "id": "209ee475-1976-4214-bd64-7378f7b2abcb",
   "metadata": {},
   "outputs": [],
   "source": []
  }
 ],
 "metadata": {
  "kernelspec": {
   "display_name": "Python 3 (ipykernel)",
   "language": "python",
   "name": "python3"
  },
  "language_info": {
   "codemirror_mode": {
    "name": "ipython",
    "version": 3
   },
   "file_extension": ".py",
   "mimetype": "text/x-python",
   "name": "python",
   "nbconvert_exporter": "python",
   "pygments_lexer": "ipython3",
   "version": "3.9.12"
  }
 },
 "nbformat": 4,
 "nbformat_minor": 5
}
