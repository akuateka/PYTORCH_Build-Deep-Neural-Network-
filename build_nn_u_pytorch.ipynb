{
 "cells": [
  {
   "cell_type": "code",
   "execution_count": 1,
   "id": "b9eb86a5-9018-4a8f-a49a-93c131f09343",
   "metadata": {},
   "outputs": [],
   "source": [
    "import torch\n",
    "import torch.nn as nn"
   ]
  },
  {
   "cell_type": "code",
   "execution_count": 2,
   "id": "c5240ee2-efd3-4585-a0f2-4f38955c37c8",
   "metadata": {},
   "outputs": [],
   "source": [
    "# define a list of features and label\n",
    "X = [[1, 2], [3, 4], [5, 6], [7, 8]]\n",
    "y = [[3], [7], [11], [15]]\n",
    "\n",
    "# convert into pytorch tensor\n",
    "X = torch.tensor(X).float()\n",
    "y = torch.tensor(y).float()"
   ]
  },
  {
   "cell_type": "code",
   "execution_count": 3,
   "id": "ca0383ab-9fa6-4dbd-b825-9b97007e02af",
   "metadata": {},
   "outputs": [],
   "source": [
    "# store the features in cuda device if GPU is available\n",
    "device = 'cuda' if torch.cuda.is_available() else 'cpu'\n",
    "X = X.to(device)\n",
    "y = y.to(device)"
   ]
  },
  {
   "cell_type": "code",
   "execution_count": 4,
   "id": "2dd68461-c229-4567-a620-59c50c724df2",
   "metadata": {},
   "outputs": [],
   "source": [
    "# define a model\n",
    "# mandatory to inherit from nn.module\n",
    "class MyNeuralNet(nn.Module):\n",
    "    def __init__(self):\n",
    "        \n",
    "        # take advantages of built_in functionnalities of nn.module \n",
    "        super().__init__()\n",
    "        self.input_to_hidden_layer = nn.Parameter(torch.randn(2, 8))\n",
    "        self.hidden_to_activation = nn.ReLU()\n",
    "        self.hidden_to_output = nn.Parameter(torch.randn(8, 1))\n",
    "        \n",
    "    # forward pass\n",
    "    def forward(self, X):\n",
    "        X = X@self.input_to_hidden_layer\n",
    "        X = self.hidden_to_activation(X)\n",
    "        X = X@self.hidden_to_output\n",
    "        return X"
   ]
  },
  {
   "cell_type": "code",
   "execution_count": 5,
   "id": "dadec779-49ee-4323-87b1-9429966faf4a",
   "metadata": {},
   "outputs": [
    {
     "name": "stdout",
     "output_type": "stream",
     "text": [
      "tensor(71.4585, device='cuda:0', grad_fn=<MseLossBackward0>)\n",
      "Parameter containing:\n",
      "tensor([[-1.1258, -1.1524, -0.2506, -0.4339,  0.8487,  0.6920, -0.3160, -2.1152],\n",
      "        [ 0.3223, -1.2633,  0.3500,  0.3081,  0.1198,  1.2377,  1.1168, -0.2473]],\n",
      "       device='cuda:0', requires_grad=True)\n",
      "Parameter containing:\n",
      "tensor([[-0.7193],\n",
      "        [-0.4033],\n",
      "        [-0.5966],\n",
      "        [ 0.1820],\n",
      "        [-0.8567],\n",
      "        [ 1.1006],\n",
      "        [-1.0712],\n",
      "        [ 0.1227]], device='cuda:0', requires_grad=True)\n"
     ]
    }
   ],
   "source": [
    "torch.manual_seed(0)\n",
    "\n",
    "# store the model in the GPU\n",
    "mynet = MyNeuralNet().to(device)\n",
    "\n",
    "# prediction \n",
    "_y = mynet(X)\n",
    "\n",
    "# loss function\n",
    "loss_func = nn.MSELoss()\n",
    "loss_value = loss_func(_y, y)\n",
    "print(loss_value)\n",
    "\n",
    "# network parameters\n",
    "for params in mynet.parameters():\n",
    "    print(params)"
   ]
  },
  {
   "cell_type": "code",
   "execution_count": 6,
   "id": "1d389fb7-bd6d-441b-868e-f724083dbcf5",
   "metadata": {},
   "outputs": [],
   "source": [
    "# import the optimization algorithm\n",
    "from torch.optim import SGD"
   ]
  },
  {
   "cell_type": "code",
   "execution_count": 7,
   "id": "82988402-24e1-41e2-8906-d7e45045a739",
   "metadata": {},
   "outputs": [
    {
     "name": "stdout",
     "output_type": "stream",
     "text": [
      "time :  0.12720727920532227\n"
     ]
    }
   ],
   "source": [
    "optimizer = SGD(mynet.parameters(), lr = 0.001)\n",
    "\n",
    "import time\n",
    "start = time.time()\n",
    "# optimization process\n",
    "loss_history = []\n",
    "for epoch in range(50):\n",
    "    # flushed the gradients computed in the previous epoch\n",
    "    optimizer.zero_grad()\n",
    "    \n",
    "    # compute loss\n",
    "    loss_value = loss_func(mynet(X), y)\n",
    "    \n",
    "    # perform backpropagation\n",
    "    loss_value.backward()\n",
    "    \n",
    "    # update the parameters according to the gradients computed\n",
    "    optimizer.step()\n",
    "    loss_history.append(loss_value.item())\n",
    "end = time.time()\n",
    "print('time : ', end - start)"
   ]
  },
  {
   "cell_type": "code",
   "execution_count": 8,
   "id": "e89e3992-9601-4f11-be79-ed9c1df0fb73",
   "metadata": {},
   "outputs": [
    {
     "data": {
      "text/plain": [
       "[<matplotlib.lines.Line2D at 0x22799dd97f0>]"
      ]
     },
     "execution_count": 8,
     "metadata": {},
     "output_type": "execute_result"
    },
    {
     "data": {
      "image/png": "[encoded data removed]",
      "text/plain": [
       "<Figure size 432x288 with 1 Axes>"
      ]
     },
     "metadata": {
      "needs_background": "light"
     },
     "output_type": "display_data"
    }
   ],
   "source": [
    "import matplotlib.pyplot as plt\n",
    "plt.plot(loss_history)"
   ]
  },
  {
   "cell_type": "code",
   "execution_count": null,
   "id": "ad95e2ca-38f2-4864-b523-2f83049915dd",
   "metadata": {},
   "outputs": [],
   "source": []
  }
 ],
 "metadata": {
  "kernelspec": {
   "display_name": "Python 3 (ipykernel)",
   "language": "python",
   "name": "python3"
  },
  "language_info": {
   "codemirror_mode": {
    "name": "ipython",
    "version": 3
   },
   "file_extension": ".py",
   "mimetype": "text/x-python",
   "name": "python",
   "nbconvert_exporter": "python",
   "pygments_lexer": "ipython3",
   "version": "3.9.12"
  }
 },
 "nbformat": 4,
 "nbformat_minor": 5
}
